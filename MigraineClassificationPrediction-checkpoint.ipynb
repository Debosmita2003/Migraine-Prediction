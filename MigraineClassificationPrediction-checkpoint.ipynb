{
 "cells": [
  {
   "cell_type": "markdown",
   "id": "45c6625e",
   "metadata": {},
   "source": [
    "# Importing Libraries"
   ]
  },
  {
   "cell_type": "code",
   "execution_count": 42,
   "id": "00d73dad",
   "metadata": {},
   "outputs": [],
   "source": [
    "import numpy as np\n",
    "import pandas as pd\n",
    "import matplotlib.pyplot as plt"
   ]
  },
  {
   "cell_type": "markdown",
   "id": "1e98478e",
   "metadata": {},
   "source": [
    "# Loading Dataset"
   ]
  },
  {
   "cell_type": "code",
   "execution_count": 43,
   "id": "2fe3b13c",
   "metadata": {},
   "outputs": [
    {
     "name": "stdout",
     "output_type": "stream",
     "text": [
      "Size of the current dataset:  (400, 24)\n",
      "\n",
      "\n",
      "Samples of the dataset \n",
      "    Age  Duration  Frequency  Location  Character  Intensity  Nausea  Vomit  \\\n",
      "0   30         1          5         1          1          2       1      0   \n",
      "1   50         3          5         1          1          3       1      1   \n",
      "2   53         2          1         1          1          2       1      1   \n",
      "3   45         3          5         1          1          3       1      0   \n",
      "4   53         1          1         1          1          2       1      0   \n",
      "\n",
      "   Phonophobia  Photophobia  ...  Vertigo  Tinnitus  Hypoacusis  Diplopia  \\\n",
      "0            1            1  ...        0         0           0         0   \n",
      "1            1            1  ...        1         0           0         0   \n",
      "2            1            1  ...        0         0           0         0   \n",
      "3            1            1  ...        1         0           0         0   \n",
      "4            1            1  ...        0         0           0         0   \n",
      "\n",
      "   Defect  Ataxia  Conscience  Paresthesia  DPF                        Type  \n",
      "0       0       0           0            0    0  Typical aura with migraine  \n",
      "1       0       0           0            0    0  Typical aura with migraine  \n",
      "2       0       0           0            0    0  Typical aura with migraine  \n",
      "3       0       0           0            0    0  Typical aura with migraine  \n",
      "4       0       0           0            0    1  Typical aura with migraine  \n",
      "\n",
      "[5 rows x 24 columns]\n"
     ]
    }
   ],
   "source": [
    "dataset = pd.read_csv('data.csv')\n",
    "print('Size of the current dataset: ', dataset.shape)\n",
    "print('\\n\\nSamples of the dataset \\n', dataset.head())"
   ]
  },
  {
   "cell_type": "markdown",
   "id": "f1fb4e9a",
   "metadata": {},
   "source": [
    "# Checking Null Values"
   ]
  },
  {
   "cell_type": "code",
   "execution_count": 44,
   "id": "8d8fae30",
   "metadata": {},
   "outputs": [
    {
     "data": {
      "text/plain": [
       "Age            0\n",
       "Duration       0\n",
       "Frequency      0\n",
       "Location       0\n",
       "Character      0\n",
       "Intensity      0\n",
       "Nausea         0\n",
       "Vomit          0\n",
       "Phonophobia    0\n",
       "Photophobia    0\n",
       "Visual         0\n",
       "Sensory        0\n",
       "Dysphasia      0\n",
       "Dysarthria     0\n",
       "Vertigo        0\n",
       "Tinnitus       0\n",
       "Hypoacusis     0\n",
       "Diplopia       0\n",
       "Defect         0\n",
       "Ataxia         0\n",
       "Conscience     0\n",
       "Paresthesia    0\n",
       "DPF            0\n",
       "Type           0\n",
       "dtype: int64"
      ]
     },
     "execution_count": 44,
     "metadata": {},
     "output_type": "execute_result"
    }
   ],
   "source": [
    "dataset.isnull().sum()"
   ]
  },
  {
   "cell_type": "markdown",
   "id": "5ed34347",
   "metadata": {},
   "source": [
    "# Removing Duplicate Data"
   ]
  },
  {
   "cell_type": "code",
   "execution_count": 45,
   "id": "cc2f6a25",
   "metadata": {},
   "outputs": [],
   "source": [
    "new_dataset = dataset.drop_duplicates()"
   ]
  },
  {
   "cell_type": "code",
   "execution_count": 46,
   "id": "c518c604",
   "metadata": {},
   "outputs": [
    {
     "name": "stdout",
     "output_type": "stream",
     "text": [
      "The size of the new dataset  (394, 24)\n",
      "\n",
      " \n",
      " Samples of the new dataset are following..... \n",
      "    Age  Duration  Frequency  Location  Character  Intensity  Nausea  Vomit  \\\n",
      "0   30         1          5         1          1          2       1      0   \n",
      "1   50         3          5         1          1          3       1      1   \n",
      "2   53         2          1         1          1          2       1      1   \n",
      "3   45         3          5         1          1          3       1      0   \n",
      "4   53         1          1         1          1          2       1      0   \n",
      "\n",
      "   Phonophobia  Photophobia  ...  Vertigo  Tinnitus  Hypoacusis  Diplopia  \\\n",
      "0            1            1  ...        0         0           0         0   \n",
      "1            1            1  ...        1         0           0         0   \n",
      "2            1            1  ...        0         0           0         0   \n",
      "3            1            1  ...        1         0           0         0   \n",
      "4            1            1  ...        0         0           0         0   \n",
      "\n",
      "   Defect  Ataxia  Conscience  Paresthesia  DPF                        Type  \n",
      "0       0       0           0            0    0  Typical aura with migraine  \n",
      "1       0       0           0            0    0  Typical aura with migraine  \n",
      "2       0       0           0            0    0  Typical aura with migraine  \n",
      "3       0       0           0            0    0  Typical aura with migraine  \n",
      "4       0       0           0            0    1  Typical aura with migraine  \n",
      "\n",
      "[5 rows x 24 columns]\n"
     ]
    }
   ],
   "source": [
    "print('The size of the new dataset ', new_dataset.shape)\n",
    "print('\\n \\n Samples of the new dataset are following..... \\n', new_dataset.head())"
   ]
  },
  {
   "cell_type": "markdown",
   "id": "977055d2",
   "metadata": {},
   "source": [
    "# Label Encoding for the 'Type' feature "
   ]
  },
  {
   "cell_type": "code",
   "execution_count": 47,
   "id": "485ea916",
   "metadata": {},
   "outputs": [
    {
     "name": "stdout",
     "output_type": "stream",
     "text": [
      "0      5\n",
      "1      5\n",
      "2      5\n",
      "3      5\n",
      "4      5\n",
      "      ..\n",
      "395    0\n",
      "396    0\n",
      "397    0\n",
      "398    0\n",
      "399    0\n",
      "Name: migraine_type, Length: 394, dtype: int32\n"
     ]
    },
    {
     "name": "stderr",
     "output_type": "stream",
     "text": [
      "C:\\Users\\debos\\AppData\\Local\\Temp\\ipykernel_4248\\1579356151.py:3: SettingWithCopyWarning: \n",
      "A value is trying to be set on a copy of a slice from a DataFrame.\n",
      "Try using .loc[row_indexer,col_indexer] = value instead\n",
      "\n",
      "See the caveats in the documentation: https://pandas.pydata.org/pandas-docs/stable/user_guide/indexing.html#returning-a-view-versus-a-copy\n",
      "  new_dataset['migraine_type'] = enc.fit_transform(new_dataset['Type'])\n"
     ]
    }
   ],
   "source": [
    "from sklearn.preprocessing import LabelEncoder\n",
    "enc = LabelEncoder()\n",
    "new_dataset['migraine_type'] = enc.fit_transform(new_dataset['Type'])\n",
    "print(new_dataset['migraine_type'])"
   ]
  },
  {
   "cell_type": "code",
   "execution_count": 48,
   "id": "dc2861f0",
   "metadata": {},
   "outputs": [
    {
     "data": {
      "text/html": [
       "<div>\n",
       "<style scoped>\n",
       "    .dataframe tbody tr th:only-of-type {\n",
       "        vertical-align: middle;\n",
       "    }\n",
       "\n",
       "    .dataframe tbody tr th {\n",
       "        vertical-align: top;\n",
       "    }\n",
       "\n",
       "    .dataframe thead th {\n",
       "        text-align: right;\n",
       "    }\n",
       "</style>\n",
       "<table border=\"1\" class=\"dataframe\">\n",
       "  <thead>\n",
       "    <tr style=\"text-align: right;\">\n",
       "      <th></th>\n",
       "      <th>Age</th>\n",
       "      <th>Duration</th>\n",
       "      <th>Frequency</th>\n",
       "      <th>Location</th>\n",
       "      <th>Character</th>\n",
       "      <th>Intensity</th>\n",
       "      <th>Nausea</th>\n",
       "      <th>Vomit</th>\n",
       "      <th>Phonophobia</th>\n",
       "      <th>Photophobia</th>\n",
       "      <th>...</th>\n",
       "      <th>Tinnitus</th>\n",
       "      <th>Hypoacusis</th>\n",
       "      <th>Diplopia</th>\n",
       "      <th>Defect</th>\n",
       "      <th>Ataxia</th>\n",
       "      <th>Conscience</th>\n",
       "      <th>Paresthesia</th>\n",
       "      <th>DPF</th>\n",
       "      <th>Type</th>\n",
       "      <th>migraine_type</th>\n",
       "    </tr>\n",
       "  </thead>\n",
       "  <tbody>\n",
       "    <tr>\n",
       "      <th>0</th>\n",
       "      <td>30</td>\n",
       "      <td>1</td>\n",
       "      <td>5</td>\n",
       "      <td>1</td>\n",
       "      <td>1</td>\n",
       "      <td>2</td>\n",
       "      <td>1</td>\n",
       "      <td>0</td>\n",
       "      <td>1</td>\n",
       "      <td>1</td>\n",
       "      <td>...</td>\n",
       "      <td>0</td>\n",
       "      <td>0</td>\n",
       "      <td>0</td>\n",
       "      <td>0</td>\n",
       "      <td>0</td>\n",
       "      <td>0</td>\n",
       "      <td>0</td>\n",
       "      <td>0</td>\n",
       "      <td>Typical aura with migraine</td>\n",
       "      <td>5</td>\n",
       "    </tr>\n",
       "    <tr>\n",
       "      <th>1</th>\n",
       "      <td>50</td>\n",
       "      <td>3</td>\n",
       "      <td>5</td>\n",
       "      <td>1</td>\n",
       "      <td>1</td>\n",
       "      <td>3</td>\n",
       "      <td>1</td>\n",
       "      <td>1</td>\n",
       "      <td>1</td>\n",
       "      <td>1</td>\n",
       "      <td>...</td>\n",
       "      <td>0</td>\n",
       "      <td>0</td>\n",
       "      <td>0</td>\n",
       "      <td>0</td>\n",
       "      <td>0</td>\n",
       "      <td>0</td>\n",
       "      <td>0</td>\n",
       "      <td>0</td>\n",
       "      <td>Typical aura with migraine</td>\n",
       "      <td>5</td>\n",
       "    </tr>\n",
       "    <tr>\n",
       "      <th>2</th>\n",
       "      <td>53</td>\n",
       "      <td>2</td>\n",
       "      <td>1</td>\n",
       "      <td>1</td>\n",
       "      <td>1</td>\n",
       "      <td>2</td>\n",
       "      <td>1</td>\n",
       "      <td>1</td>\n",
       "      <td>1</td>\n",
       "      <td>1</td>\n",
       "      <td>...</td>\n",
       "      <td>0</td>\n",
       "      <td>0</td>\n",
       "      <td>0</td>\n",
       "      <td>0</td>\n",
       "      <td>0</td>\n",
       "      <td>0</td>\n",
       "      <td>0</td>\n",
       "      <td>0</td>\n",
       "      <td>Typical aura with migraine</td>\n",
       "      <td>5</td>\n",
       "    </tr>\n",
       "  </tbody>\n",
       "</table>\n",
       "<p>3 rows × 25 columns</p>\n",
       "</div>"
      ],
      "text/plain": [
       "   Age  Duration  Frequency  Location  Character  Intensity  Nausea  Vomit  \\\n",
       "0   30         1          5         1          1          2       1      0   \n",
       "1   50         3          5         1          1          3       1      1   \n",
       "2   53         2          1         1          1          2       1      1   \n",
       "\n",
       "   Phonophobia  Photophobia  ...  Tinnitus  Hypoacusis  Diplopia  Defect  \\\n",
       "0            1            1  ...         0           0         0       0   \n",
       "1            1            1  ...         0           0         0       0   \n",
       "2            1            1  ...         0           0         0       0   \n",
       "\n",
       "   Ataxia  Conscience  Paresthesia  DPF                        Type  \\\n",
       "0       0           0            0    0  Typical aura with migraine   \n",
       "1       0           0            0    0  Typical aura with migraine   \n",
       "2       0           0            0    0  Typical aura with migraine   \n",
       "\n",
       "   migraine_type  \n",
       "0              5  \n",
       "1              5  \n",
       "2              5  \n",
       "\n",
       "[3 rows x 25 columns]"
      ]
     },
     "execution_count": 48,
     "metadata": {},
     "output_type": "execute_result"
    }
   ],
   "source": [
    "new_dataset.head(3)"
   ]
  },
  {
   "cell_type": "markdown",
   "id": "77592403",
   "metadata": {},
   "source": [
    "# Removing the 'Type' feature"
   ]
  },
  {
   "cell_type": "code",
   "execution_count": 49,
   "id": "e98b40a0",
   "metadata": {},
   "outputs": [
    {
     "data": {
      "text/html": [
       "<div>\n",
       "<style scoped>\n",
       "    .dataframe tbody tr th:only-of-type {\n",
       "        vertical-align: middle;\n",
       "    }\n",
       "\n",
       "    .dataframe tbody tr th {\n",
       "        vertical-align: top;\n",
       "    }\n",
       "\n",
       "    .dataframe thead th {\n",
       "        text-align: right;\n",
       "    }\n",
       "</style>\n",
       "<table border=\"1\" class=\"dataframe\">\n",
       "  <thead>\n",
       "    <tr style=\"text-align: right;\">\n",
       "      <th></th>\n",
       "      <th>Age</th>\n",
       "      <th>Duration</th>\n",
       "      <th>Frequency</th>\n",
       "      <th>Location</th>\n",
       "      <th>Character</th>\n",
       "      <th>Intensity</th>\n",
       "      <th>Nausea</th>\n",
       "      <th>Vomit</th>\n",
       "      <th>Phonophobia</th>\n",
       "      <th>Photophobia</th>\n",
       "      <th>...</th>\n",
       "      <th>Vertigo</th>\n",
       "      <th>Tinnitus</th>\n",
       "      <th>Hypoacusis</th>\n",
       "      <th>Diplopia</th>\n",
       "      <th>Defect</th>\n",
       "      <th>Ataxia</th>\n",
       "      <th>Conscience</th>\n",
       "      <th>Paresthesia</th>\n",
       "      <th>DPF</th>\n",
       "      <th>migraine_type</th>\n",
       "    </tr>\n",
       "  </thead>\n",
       "  <tbody>\n",
       "    <tr>\n",
       "      <th>0</th>\n",
       "      <td>30</td>\n",
       "      <td>1</td>\n",
       "      <td>5</td>\n",
       "      <td>1</td>\n",
       "      <td>1</td>\n",
       "      <td>2</td>\n",
       "      <td>1</td>\n",
       "      <td>0</td>\n",
       "      <td>1</td>\n",
       "      <td>1</td>\n",
       "      <td>...</td>\n",
       "      <td>0</td>\n",
       "      <td>0</td>\n",
       "      <td>0</td>\n",
       "      <td>0</td>\n",
       "      <td>0</td>\n",
       "      <td>0</td>\n",
       "      <td>0</td>\n",
       "      <td>0</td>\n",
       "      <td>0</td>\n",
       "      <td>5</td>\n",
       "    </tr>\n",
       "    <tr>\n",
       "      <th>1</th>\n",
       "      <td>50</td>\n",
       "      <td>3</td>\n",
       "      <td>5</td>\n",
       "      <td>1</td>\n",
       "      <td>1</td>\n",
       "      <td>3</td>\n",
       "      <td>1</td>\n",
       "      <td>1</td>\n",
       "      <td>1</td>\n",
       "      <td>1</td>\n",
       "      <td>...</td>\n",
       "      <td>1</td>\n",
       "      <td>0</td>\n",
       "      <td>0</td>\n",
       "      <td>0</td>\n",
       "      <td>0</td>\n",
       "      <td>0</td>\n",
       "      <td>0</td>\n",
       "      <td>0</td>\n",
       "      <td>0</td>\n",
       "      <td>5</td>\n",
       "    </tr>\n",
       "    <tr>\n",
       "      <th>2</th>\n",
       "      <td>53</td>\n",
       "      <td>2</td>\n",
       "      <td>1</td>\n",
       "      <td>1</td>\n",
       "      <td>1</td>\n",
       "      <td>2</td>\n",
       "      <td>1</td>\n",
       "      <td>1</td>\n",
       "      <td>1</td>\n",
       "      <td>1</td>\n",
       "      <td>...</td>\n",
       "      <td>0</td>\n",
       "      <td>0</td>\n",
       "      <td>0</td>\n",
       "      <td>0</td>\n",
       "      <td>0</td>\n",
       "      <td>0</td>\n",
       "      <td>0</td>\n",
       "      <td>0</td>\n",
       "      <td>0</td>\n",
       "      <td>5</td>\n",
       "    </tr>\n",
       "    <tr>\n",
       "      <th>3</th>\n",
       "      <td>45</td>\n",
       "      <td>3</td>\n",
       "      <td>5</td>\n",
       "      <td>1</td>\n",
       "      <td>1</td>\n",
       "      <td>3</td>\n",
       "      <td>1</td>\n",
       "      <td>0</td>\n",
       "      <td>1</td>\n",
       "      <td>1</td>\n",
       "      <td>...</td>\n",
       "      <td>1</td>\n",
       "      <td>0</td>\n",
       "      <td>0</td>\n",
       "      <td>0</td>\n",
       "      <td>0</td>\n",
       "      <td>0</td>\n",
       "      <td>0</td>\n",
       "      <td>0</td>\n",
       "      <td>0</td>\n",
       "      <td>5</td>\n",
       "    </tr>\n",
       "    <tr>\n",
       "      <th>4</th>\n",
       "      <td>53</td>\n",
       "      <td>1</td>\n",
       "      <td>1</td>\n",
       "      <td>1</td>\n",
       "      <td>1</td>\n",
       "      <td>2</td>\n",
       "      <td>1</td>\n",
       "      <td>0</td>\n",
       "      <td>1</td>\n",
       "      <td>1</td>\n",
       "      <td>...</td>\n",
       "      <td>0</td>\n",
       "      <td>0</td>\n",
       "      <td>0</td>\n",
       "      <td>0</td>\n",
       "      <td>0</td>\n",
       "      <td>0</td>\n",
       "      <td>0</td>\n",
       "      <td>0</td>\n",
       "      <td>1</td>\n",
       "      <td>5</td>\n",
       "    </tr>\n",
       "  </tbody>\n",
       "</table>\n",
       "<p>5 rows × 24 columns</p>\n",
       "</div>"
      ],
      "text/plain": [
       "   Age  Duration  Frequency  Location  Character  Intensity  Nausea  Vomit  \\\n",
       "0   30         1          5         1          1          2       1      0   \n",
       "1   50         3          5         1          1          3       1      1   \n",
       "2   53         2          1         1          1          2       1      1   \n",
       "3   45         3          5         1          1          3       1      0   \n",
       "4   53         1          1         1          1          2       1      0   \n",
       "\n",
       "   Phonophobia  Photophobia  ...  Vertigo  Tinnitus  Hypoacusis  Diplopia  \\\n",
       "0            1            1  ...        0         0           0         0   \n",
       "1            1            1  ...        1         0           0         0   \n",
       "2            1            1  ...        0         0           0         0   \n",
       "3            1            1  ...        1         0           0         0   \n",
       "4            1            1  ...        0         0           0         0   \n",
       "\n",
       "   Defect  Ataxia  Conscience  Paresthesia  DPF  migraine_type  \n",
       "0       0       0           0            0    0              5  \n",
       "1       0       0           0            0    0              5  \n",
       "2       0       0           0            0    0              5  \n",
       "3       0       0           0            0    0              5  \n",
       "4       0       0           0            0    1              5  \n",
       "\n",
       "[5 rows x 24 columns]"
      ]
     },
     "execution_count": 49,
     "metadata": {},
     "output_type": "execute_result"
    }
   ],
   "source": [
    "migraine = new_dataset.drop(columns = 'Type')\n",
    "migraine.head()"
   ]
  },
  {
   "cell_type": "markdown",
   "id": "e5938a5b",
   "metadata": {},
   "source": [
    "# Description about the data"
   ]
  },
  {
   "cell_type": "code",
   "execution_count": 50,
   "id": "82e3ec2f",
   "metadata": {},
   "outputs": [
    {
     "name": "stdout",
     "output_type": "stream",
     "text": [
      "Description of the data: \n",
      "               Age    Duration   Frequency    Location   Character   Intensity  \\\n",
      "count  394.000000  394.000000  394.000000  394.000000  394.000000  394.000000   \n",
      "mean    31.695431    1.619289    2.365482    0.972081    0.977157    2.472081   \n",
      "std     12.182607    0.773106    1.672537    0.270203    0.279924    0.771953   \n",
      "min     15.000000    1.000000    1.000000    0.000000    0.000000    0.000000   \n",
      "25%     22.000000    1.000000    1.000000    1.000000    1.000000    2.000000   \n",
      "50%     28.000000    1.000000    2.000000    1.000000    1.000000    3.000000   \n",
      "75%     40.000000    2.000000    3.750000    1.000000    1.000000    3.000000   \n",
      "max     77.000000    3.000000    8.000000    2.000000    2.000000    3.000000   \n",
      "\n",
      "           Nausea       Vomit  Phonophobia  Photophobia  ...     Vertigo  \\\n",
      "count  394.000000  394.000000   394.000000   394.000000  ...  394.000000   \n",
      "mean     0.987310    0.324873     0.977157     0.979695  ...    0.126904   \n",
      "std      0.112077    0.468923     0.149592     0.141219  ...    0.333288   \n",
      "min      0.000000    0.000000     0.000000     0.000000  ...    0.000000   \n",
      "25%      1.000000    0.000000     1.000000     1.000000  ...    0.000000   \n",
      "50%      1.000000    0.000000     1.000000     1.000000  ...    0.000000   \n",
      "75%      1.000000    1.000000     1.000000     1.000000  ...    0.000000   \n",
      "max      1.000000    1.000000     1.000000     1.000000  ...    1.000000   \n",
      "\n",
      "         Tinnitus  Hypoacusis    Diplopia      Defect  Ataxia  Conscience  \\\n",
      "count  394.000000  394.000000  394.000000  394.000000   394.0  394.000000   \n",
      "mean     0.060914    0.015228    0.005076    0.015228     0.0    0.017766   \n",
      "std      0.239476    0.122616    0.071156    0.122616     0.0    0.132270   \n",
      "min      0.000000    0.000000    0.000000    0.000000     0.0    0.000000   \n",
      "25%      0.000000    0.000000    0.000000    0.000000     0.0    0.000000   \n",
      "50%      0.000000    0.000000    0.000000    0.000000     0.0    0.000000   \n",
      "75%      0.000000    0.000000    0.000000    0.000000     0.0    0.000000   \n",
      "max      1.000000    1.000000    1.000000    1.000000     0.0    1.000000   \n",
      "\n",
      "       Paresthesia         DPF  migraine_type  \n",
      "count   394.000000  394.000000     394.000000  \n",
      "mean      0.007614    0.408629       4.000000  \n",
      "std       0.087037    0.492206       1.659271  \n",
      "min       0.000000    0.000000       0.000000  \n",
      "25%       0.000000    0.000000       2.000000  \n",
      "50%       0.000000    0.000000       5.000000  \n",
      "75%       0.000000    1.000000       5.000000  \n",
      "max       1.000000    1.000000       6.000000  \n",
      "\n",
      "[8 rows x 24 columns]\n"
     ]
    }
   ],
   "source": [
    "print('Description of the data: \\n', migraine.describe())"
   ]
  },
  {
   "cell_type": "markdown",
   "id": "d7a4777d",
   "metadata": {},
   "source": [
    "# Showing the unique values for each column"
   ]
  },
  {
   "cell_type": "code",
   "execution_count": 51,
   "id": "1b5c31b9",
   "metadata": {},
   "outputs": [
    {
     "data": {
      "text/plain": [
       "Age              51\n",
       "Duration          3\n",
       "Frequency         8\n",
       "Location          3\n",
       "Character         3\n",
       "Intensity         4\n",
       "Nausea            2\n",
       "Vomit             2\n",
       "Phonophobia       2\n",
       "Photophobia       2\n",
       "Visual            5\n",
       "Sensory           3\n",
       "Dysphasia         2\n",
       "Dysarthria        2\n",
       "Vertigo           2\n",
       "Tinnitus          2\n",
       "Hypoacusis        2\n",
       "Diplopia          2\n",
       "Defect            2\n",
       "Ataxia            1\n",
       "Conscience        2\n",
       "Paresthesia       2\n",
       "DPF               2\n",
       "migraine_type     7\n",
       "dtype: int64"
      ]
     },
     "execution_count": 51,
     "metadata": {},
     "output_type": "execute_result"
    }
   ],
   "source": [
    "migraine.nunique(axis = 0)"
   ]
  },
  {
   "cell_type": "markdown",
   "id": "40b3b0de",
   "metadata": {},
   "source": [
    "# Spliting the data"
   ]
  },
  {
   "cell_type": "code",
   "execution_count": 52,
   "id": "5e0c2876",
   "metadata": {},
   "outputs": [],
   "source": [
    "from sklearn.model_selection import train_test_split"
   ]
  },
  {
   "cell_type": "code",
   "execution_count": 53,
   "id": "71a6df15",
   "metadata": {},
   "outputs": [],
   "source": [
    "x = migraine.drop(['migraine_type'], axis = 1)\n",
    "y = migraine['migraine_type']"
   ]
  },
  {
   "cell_type": "code",
   "execution_count": 54,
   "id": "346a7d6e",
   "metadata": {},
   "outputs": [],
   "source": [
    "x_train, x_test, y_train, y_test = train_test_split(x, y, test_size = 0.1, random_state = 1)"
   ]
  },
  {
   "cell_type": "code",
   "execution_count": 55,
   "id": "a58d7747",
   "metadata": {},
   "outputs": [
    {
     "name": "stdout",
     "output_type": "stream",
     "text": [
      "(354, 23)\n",
      "(40, 23)\n",
      "(354,)\n",
      "(40,)\n"
     ]
    }
   ],
   "source": [
    "print(x_train.shape)\n",
    "print(x_test.shape)\n",
    "print(y_train.shape)\n",
    "print(y_test.shape)"
   ]
  },
  {
   "cell_type": "markdown",
   "id": "e9b0a683",
   "metadata": {},
   "source": [
    "# Applying different Models into Train and Test data"
   ]
  },
  {
   "cell_type": "code",
   "execution_count": 56,
   "id": "8822c398",
   "metadata": {},
   "outputs": [],
   "source": [
    "from sklearn import metrics"
   ]
  },
  {
   "cell_type": "code",
   "execution_count": 57,
   "id": "6488770b",
   "metadata": {},
   "outputs": [
    {
     "name": "stdout",
     "output_type": "stream",
     "text": [
      "0.9372207554833469\n",
      "0.21812499999999999\n"
     ]
    }
   ],
   "source": [
    "from sklearn.ensemble import RandomForestRegressor\n",
    "r_model = RandomForestRegressor(n_estimators = 40, random_state = 1)\n",
    "r_model.fit(x_test, y_test)\n",
    "test_pred = r_model.predict(x_test)\n",
    "score_1 = metrics.r2_score(y_test, test_pred)\n",
    "score_2 = metrics.mean_absolute_error(y_test, test_pred)\n",
    "print(score_1)\n",
    "print(score_2)"
   ]
  },
  {
   "cell_type": "code",
   "execution_count": 58,
   "id": "e76191ae",
   "metadata": {},
   "outputs": [
    {
     "name": "stdout",
     "output_type": "stream",
     "text": [
      "0.8595377647240529\n",
      "0.48433817639979476\n"
     ]
    }
   ],
   "source": [
    "from sklearn.linear_model import Ridge\n",
    "R_model = Ridge()\n",
    "R_model.fit(x_test, y_test)\n",
    "test_pred = R_model.predict(x_test)\n",
    "score_1 = metrics.r2_score(y_test, test_pred)\n",
    "score_2 = metrics.mean_absolute_error(y_test, test_pred)\n",
    "print(score_1)\n",
    "print(score_2)"
   ]
  },
  {
   "cell_type": "code",
   "execution_count": 59,
   "id": "6fff1319",
   "metadata": {},
   "outputs": [
    {
     "name": "stdout",
     "output_type": "stream",
     "text": [
      "0.9040025365710909\n",
      "0.3605727488576777\n"
     ]
    }
   ],
   "source": [
    "from sklearn.linear_model import LinearRegression\n",
    "L_model = LinearRegression()\n",
    "L_model.fit(x_test, y_test)\n",
    "test_pred = L_model.predict(x_test)\n",
    "score_1 = metrics.r2_score(y_test, test_pred)\n",
    "score_2 = metrics.mean_absolute_error(y_test, test_pred)\n",
    "print(score_1)\n",
    "print(score_2)"
   ]
  },
  {
   "cell_type": "code",
   "execution_count": 60,
   "id": "d752f364",
   "metadata": {},
   "outputs": [
    {
     "name": "stdout",
     "output_type": "stream",
     "text": [
      "1.0\n",
      "0.0\n",
      "[5. 5. 6. 5. 5. 5. 5. 5. 5. 0. 6. 5. 4. 5. 3. 5. 5. 5. 0. 4. 5. 5. 5. 5.\n",
      " 2. 1. 5. 5. 0. 5. 6. 5. 5. 0. 5. 5. 5. 2. 5. 2.]\n"
     ]
    }
   ],
   "source": [
    "from sklearn.tree import DecisionTreeRegressor\n",
    "D_model = DecisionTreeRegressor()\n",
    "D_model.fit(x_test.values, y_test.values)\n",
    "test_pred = D_model.predict(x_test.values)\n",
    "score_1 = metrics.r2_score(y_test, test_pred)\n",
    "score_2 = metrics.mean_absolute_error(y_test.values, test_pred)\n",
    "print(score_1)\n",
    "print(score_2)\n",
    "print(test_pred)"
   ]
  },
  {
   "cell_type": "markdown",
   "id": "d52000e9",
   "metadata": {},
   "source": [
    "# Predicting by the Best Model"
   ]
  },
  {
   "cell_type": "code",
   "execution_count": 81,
   "id": "266cf852",
   "metadata": {},
   "outputs": [
    {
     "name": "stdout",
     "output_type": "stream",
     "text": [
      "[0.]\n"
     ]
    }
   ],
   "source": [
    "input = [28,1,2,1,1,3,1,0,1,1,2,0,0,0,1,0,0,0,0,0,0,0,0]\n",
    "input_array = np.asarray(input)\n",
    "reshape_input = input_array.reshape(1, -1)\n",
    "pred = D_model.predict(reshape_input)\n",
    "print(pred)"
   ]
  },
  {
   "cell_type": "code",
   "execution_count": null,
   "id": "83b2419b",
   "metadata": {},
   "outputs": [],
   "source": []
  }
 ],
 "metadata": {
  "kernelspec": {
   "display_name": "Python 3 (ipykernel)",
   "language": "python",
   "name": "python3"
  },
  "language_info": {
   "codemirror_mode": {
    "name": "ipython",
    "version": 3
   },
   "file_extension": ".py",
   "mimetype": "text/x-python",
   "name": "python",
   "nbconvert_exporter": "python",
   "pygments_lexer": "ipython3",
   "version": "3.9.13"
  }
 },
 "nbformat": 4,
 "nbformat_minor": 5
}
